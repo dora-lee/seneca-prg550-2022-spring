{
 "cells": [
  {
   "cell_type": "markdown",
   "id": "78275ea8",
   "metadata": {},
   "source": [
    "# Lab 7, Weather Data Collection, Cleaning, and Exploration\n",
    "\n",
    "### Due Aug 2,3, 2022 (in-lab demonstration)\n",
    "\n",
    "In this lab, you will perform the first three stages of the data science process needed before training a model to predict if there will be `Rain` or `NoRain`\n",
    "\n",
    "1. Data Collection\n",
    "1. Data Cleaning\n",
    "1. Data Exploration\n",
    "\n",
    "\n",
    "You will used the prepared code below to download hourly data for 1 month from Environment Canada's [historical data site](https://climate.weather.gc.ca/historical_data/search_historic_data_e.html).  The year, month, and day are configuration parameters to Environment Canada's download API (Application Interface)\n",
    "\n",
    "1. Ensure you read and understand the provided code, comments, and documentation in pre-populated cells\n",
    "\n",
    "1. Provided needed code to complete the lab and \n",
    "\n",
    "1. Answer questions in the cells below\n"
   ]
  },
  {
   "cell_type": "markdown",
   "id": "90a7049e",
   "metadata": {},
   "source": [
    "# Notes on Environment Canada Data Quality Indicators\n",
    "\n",
    "```\n",
    "'M' Missing\n",
    "'E' Estimated\n",
    "'NA' = Not Available\n",
    "[empty] = Indicates an unobserved value\n",
    "```\n",
    "\n",
    "# Notes on Environment Canada API\n",
    "    timeframe = {\n",
    "    'hourly':1,\n",
    "    'daily':2,\n",
    "    'monthly':3\n",
    "    }"
   ]
  },
  {
   "cell_type": "markdown",
   "id": "3a228b45",
   "metadata": {},
   "source": [
    "# Jupyter Settings\n",
    "\n",
    "Change Jupyter gui for wider cells\n",
    "\n",
    "Change Pandas to show all columns and rows"
   ]
  },
  {
   "cell_type": "code",
   "execution_count": null,
   "id": "bfb9115e",
   "metadata": {},
   "outputs": [],
   "source": [
    "# increase Jupyter cell width\n",
    "\n",
    "from IPython.display import display, HTML\n",
    "display(HTML(\"<style>.container { width:100% !important; }</style>\"))"
   ]
  },
  {
   "cell_type": "code",
   "execution_count": null,
   "id": "71499cd9",
   "metadata": {},
   "outputs": [],
   "source": [
    "import pandas as pd\n",
    "\n",
    "# set pandas options\n",
    "pd.set_option('display.max_columns', None)\n",
    "pd.set_option('display.max_rows', None)"
   ]
  },
  {
   "cell_type": "markdown",
   "id": "5c3d8765",
   "metadata": {},
   "source": [
    "# Environment Canada API Parameter Configuration"
   ]
  },
  {
   "cell_type": "code",
   "execution_count": null,
   "id": "c3877922",
   "metadata": {},
   "outputs": [],
   "source": [
    "stationID, climateID = \"51459\", \"6158731\" # Toronto Pearson\n",
    "\n",
    "##############################################################################\n",
    "########### Set Year, Month, Day to capture 1 month of hourly data ###########\n",
    "year = 2022\n",
    "month = 6\n",
    "day = 1\n",
    "##############################################################################\n",
    "\n",
    "download_date_str = f\"{year}-{month:02d}-{day:02d}\"\n",
    "\n",
    "print(\"Month data will be downloaded: \", download_date_str)\n",
    "\n",
    "url_base = \"https://climate.weather.gc.ca/climate_data/bulk_data_e.html?\"\n",
    "url_hourly = \"{url_base}format=csv&stationID={stationID}&Year={year}&Month={month:02d}&Day={day:02d}&timeframe=1\".format(url_base=url_base, stationID=stationID, year=year, month=month, day=day)\n",
    "url_daily = \"{url_base}format=csv&stationID={stationID}&Year={year}&Month={month:02d}&Day={day:02d}&timeframe=2\".format(url_base=url_base, stationID=stationID, year=year, month=month, day=day)\n",
    "url_monthly = f\"{url_base}format=csv&stationID={stationID}&Year={year}&Month={month:02d}&timeframe=3\".format(url_base=url_base, stationID=stationID, year=year, month=month)"
   ]
  },
  {
   "cell_type": "markdown",
   "id": "227db4c5",
   "metadata": {},
   "source": [
    "# Manual Data Download\n",
    "\n",
    "Try the links below to download the same data to your PC, open with a text editor (or excel) to examine the fields"
   ]
  },
  {
   "cell_type": "code",
   "execution_count": null,
   "id": "84397066",
   "metadata": {},
   "outputs": [],
   "source": [
    "print(\"Click to download CSV data:\")\n",
    "print(url_hourly)\n",
    "print(url_daily)\n",
    "print(url_monthly)"
   ]
  },
  {
   "cell_type": "markdown",
   "id": "14f0a347",
   "metadata": {},
   "source": [
    "# Automated Data Download\n",
    "\n",
    "The cells below will download hourly data and save it to a local file on the Pi\n",
    "\n",
    "Q: what is the name of the local file?"
   ]
  },
  {
   "cell_type": "code",
   "execution_count": null,
   "id": "88b2b3b8",
   "metadata": {},
   "outputs": [],
   "source": [
    "import requests"
   ]
  },
  {
   "cell_type": "code",
   "execution_count": null,
   "id": "e67e9560",
   "metadata": {},
   "outputs": [],
   "source": [
    "response = requests.get(url_hourly)"
   ]
  },
  {
   "cell_type": "code",
   "execution_count": null,
   "id": "75ef2703",
   "metadata": {},
   "outputs": [],
   "source": [
    "data_download_filepath = f'environment_canada_station_data_{stationID}_{climateID}_{download_date_str}.csv'\n",
    "\n",
    "with open(data_download_filepath, 'w') as f:\n",
    "    f.write(response.content.decode(\"utf-8\"))"
   ]
  },
  {
   "cell_type": "code",
   "execution_count": null,
   "id": "f43737ef",
   "metadata": {
    "scrolled": true
   },
   "outputs": [],
   "source": [
    "!head -n 4 {data_download_filepath}"
   ]
  },
  {
   "cell_type": "code",
   "execution_count": null,
   "id": "d5485fd1",
   "metadata": {},
   "outputs": [],
   "source": [
    "df_raw = pd.read_csv(data_download_filepath)"
   ]
  },
  {
   "cell_type": "code",
   "execution_count": null,
   "id": "36980790",
   "metadata": {},
   "outputs": [],
   "source": [
    "df_raw.head(2)"
   ]
  },
  {
   "cell_type": "markdown",
   "id": "6ff896dd",
   "metadata": {},
   "source": [
    "# Data Exploration"
   ]
  },
  {
   "cell_type": "code",
   "execution_count": null,
   "id": "4ae19ba6",
   "metadata": {},
   "outputs": [],
   "source": [
    "# show the column names\n",
    "\n",
    "your code here"
   ]
  },
  {
   "cell_type": "code",
   "execution_count": null,
   "id": "703fb84e",
   "metadata": {},
   "outputs": [],
   "source": [
    "# show how many rows of data was downloaded\n",
    "\n",
    "your code here"
   ]
  },
  {
   "cell_type": "code",
   "execution_count": null,
   "id": "2ed4c5c3",
   "metadata": {},
   "outputs": [],
   "source": [
    "# show field data types \n",
    "\n",
    "your code here"
   ]
  },
  {
   "cell_type": "code",
   "execution_count": null,
   "id": "51b7cd7a",
   "metadata": {},
   "outputs": [],
   "source": [
    "# show count of NA's and nan's for each field\n",
    "df_raw.info()"
   ]
  },
  {
   "cell_type": "code",
   "execution_count": null,
   "id": "154de6c3",
   "metadata": {},
   "outputs": [],
   "source": [
    "# show statistical summary of data fields\n",
    "df_raw.describe()"
   ]
  },
  {
   "cell_type": "markdown",
   "id": "1abd8873",
   "metadata": {},
   "source": [
    "# Show weather labels in dataset"
   ]
  },
  {
   "cell_type": "code",
   "execution_count": null,
   "id": "cae37f49",
   "metadata": {},
   "outputs": [],
   "source": [
    "df_raw['Weather'].unique()"
   ]
  },
  {
   "cell_type": "markdown",
   "id": "4defcb5b",
   "metadata": {},
   "source": [
    "# Data Cleaning"
   ]
  },
  {
   "cell_type": "code",
   "execution_count": null,
   "id": "4c5d2423",
   "metadata": {},
   "outputs": [],
   "source": [
    "df_cleaned = df_raw.copy()"
   ]
  },
  {
   "cell_type": "code",
   "execution_count": null,
   "id": "c189c01d",
   "metadata": {},
   "outputs": [],
   "source": [
    "# remove special characters from column names\n",
    "import re\n",
    "def clean_column_names(column_name):\n",
    "    col_stage1 = re.sub('\\(.*\\)','',column_name)\n",
    "    col_stage2 = re.sub('[. /]','',col_stage1)\n",
    "    return col_stage2\n",
    "\n",
    "df_cleaned.columns = [clean_column_names(c) for c in df_cleaned.columns]"
   ]
  },
  {
   "cell_type": "code",
   "execution_count": null,
   "id": "da2b0ca7",
   "metadata": {},
   "outputs": [],
   "source": [
    "df_cleaned.head(3)"
   ]
  },
  {
   "cell_type": "markdown",
   "id": "84160f62",
   "metadata": {},
   "source": [
    "# Data Preparation\n",
    "\n",
    "- the BMP280 provides temperature and pressure readings.  \n",
    "- select the temperature, air pressure data fields, and weather labels and save into `df_cleaned` dataframe"
   ]
  },
  {
   "cell_type": "code",
   "execution_count": 43,
   "id": "f7d027a2",
   "metadata": {},
   "outputs": [],
   "source": [
    "# Q: Which additional fields should be selected? \n",
    "keep_fields = ['DateTime', ... your code here ... ]\n",
    "df_cleaned = df_cleaned[keep_fields]"
   ]
  },
  {
   "cell_type": "code",
   "execution_count": null,
   "id": "fcaafcce",
   "metadata": {
    "scrolled": true
   },
   "outputs": [],
   "source": [
    "df_cleaned.head(10)"
   ]
  },
  {
   "cell_type": "markdown",
   "id": "3344bc19",
   "metadata": {},
   "source": [
    "# Data Cleaning: Clean `Weather` column for later use as labels with weather classification model\n",
    "\n",
    "Assuming the Weather label does not change quickly from hour-to-hour, replace `NaN`'s with the most recent populated value.\n",
    "\n",
    "For example, \n",
    "- the `Weather` at `2022-06-01 02:00` should be similar to the weather at `2022-06-01 01:00`.  Replace `NaN` with 'Mostly Cloudly'\n",
    "- the `Weather` at `2022-06-01 03:00` should be similar to the weather at `2022-06-01 02:00`.  Replace `NaN` with 'Mostly Cloudly'\n",
    "- the `Weather` at `2022-06-01 05:00` should be similar to the weather at `2022-06-01 04:00`.  Replace `NaN` with 'Cloudly'\n",
    "- the `Weather` at `2022-06-01 06:00` should be similar to the weather at `2022-06-01 05:00`.  Replace `NaN` with 'Cloudly'\n",
    "\n",
    "Use the `fillna()` function in Pandas to accomplish this\n"
   ]
  },
  {
   "cell_type": "code",
   "execution_count": null,
   "id": "609aedff",
   "metadata": {},
   "outputs": [],
   "source": [
    "df_cleaned['Weather_fix'] = your code here # forward fill NA's (previous hour's observation passes into the next hour (ie next row))\n",
    "df_cleaned['Weather_fix'] = df_cleaned['Weather_fix'].fillna(method='bfill') # backward fill NA's (current hour's observation passes into the previous hour (ie for the first row))"
   ]
  },
  {
   "cell_type": "code",
   "execution_count": null,
   "id": "63825ff5",
   "metadata": {},
   "outputs": [],
   "source": [
    "df_cleaned.head(10)"
   ]
  },
  {
   "cell_type": "markdown",
   "id": "678d6365",
   "metadata": {},
   "source": [
    "# Data Preparation: Define PRG550 `Rain/NoRain` labels based on Environment Canada `Weather` labels"
   ]
  },
  {
   "cell_type": "code",
   "execution_count": null,
   "id": "525b02ae",
   "metadata": {},
   "outputs": [],
   "source": [
    "df_cleaned['Weather_fix'].unique()"
   ]
  },
  {
   "cell_type": "code",
   "execution_count": null,
   "id": "7b76de14",
   "metadata": {},
   "outputs": [],
   "source": [
    "# Use the unique Weather labels from the above cell and create a dictionary to map `Weather` label to `Rain` or `NoRain`\n",
    "\n",
    "prg550_weather_2labels = {\n",
    "\n",
    "    your code here\n",
    "    \n",
    "}"
   ]
  },
  {
   "cell_type": "code",
   "execution_count": null,
   "id": "1c72f0e5",
   "metadata": {},
   "outputs": [],
   "source": [
    "# create new column with only 2 categories from the above dictionary\n",
    "df_cleaned['PRG550_2labels'] = your code here\n",
    "df_cleaned.head(3)"
   ]
  },
  {
   "cell_type": "code",
   "execution_count": null,
   "id": "d7cf20fa",
   "metadata": {},
   "outputs": [],
   "source": [
    "df_cleaned.loc[df_cleaned['PRG550_2labels']=='Rain'].head(3) # find entries that show Rain"
   ]
  },
  {
   "cell_type": "markdown",
   "id": "68750d4a",
   "metadata": {},
   "source": [
    "# Data Visualization\n",
    "\n",
    "- plot visualization of relationship between temperature, air pressure and `Rain`/`NoRain` labels\n",
    "- use `pairplot()` from the Seaborn library\n",
    "- use with the parameter `hue=\"PRG550_2labels\"`\n",
    "\n",
    "See Seaborn documentation to for `pairplot()`:\n",
    "\n",
    "    https://seaborn.pydata.org/generated/seaborn.pairplot.html"
   ]
  },
  {
   "cell_type": "code",
   "execution_count": null,
   "id": "1a6c157a",
   "metadata": {},
   "outputs": [],
   "source": [
    "import seaborn as sns\n",
    "sns.color_palette(\"viridis_r\", as_cmap=True)\n",
    "sns.set_palette('tab10')"
   ]
  },
  {
   "cell_type": "code",
   "execution_count": null,
   "id": "6df6ea85",
   "metadata": {},
   "outputs": [],
   "source": [
    "_fields = ['Temp','StnPress','PRG550_2labels']\n",
    "plot_df = df_cleaned[_fields]\n",
    "\n",
    "sns.pairplot(plot_df, hue='PRG550_2labels')"
   ]
  },
  {
   "cell_type": "markdown",
   "id": "60717b4d",
   "metadata": {},
   "source": [
    "# Data Analysis\n",
    "\n",
    "Provide answers to the below questions\n",
    "\n",
    "1. What is the mean, and standard deviation for temperature and air pressure for the entire dataset?\n",
    "1. What is the mean, and standard deviation for temperature and air pressure when there is Rain?\n",
    "1. What is the mean, and standard deviation for temperature and air pressure when there is NoRain?\n",
    "1. How many data points are there for Rain?\n",
    "1. How many data points are there for NoRain?\n"
   ]
  },
  {
   "cell_type": "code",
   "execution_count": null,
   "id": "c7059479",
   "metadata": {},
   "outputs": [],
   "source": [
    "# Q1 answer"
   ]
  },
  {
   "cell_type": "code",
   "execution_count": null,
   "id": "4b742d88",
   "metadata": {},
   "outputs": [],
   "source": [
    "# Q2 answer"
   ]
  },
  {
   "cell_type": "code",
   "execution_count": null,
   "id": "371af79e",
   "metadata": {},
   "outputs": [],
   "source": [
    "# Q3 answer"
   ]
  },
  {
   "cell_type": "code",
   "execution_count": null,
   "id": "6205749f",
   "metadata": {},
   "outputs": [],
   "source": [
    "# Q4 answer"
   ]
  },
  {
   "cell_type": "code",
   "execution_count": null,
   "id": "2a1d6285",
   "metadata": {},
   "outputs": [],
   "source": [
    "# Q5 answer"
   ]
  },
  {
   "cell_type": "code",
   "execution_count": null,
   "id": "9ce27cea",
   "metadata": {},
   "outputs": [],
   "source": []
  }
 ],
 "metadata": {
  "kernelspec": {
   "display_name": "Python 3 (ipykernel)",
   "language": "python",
   "name": "python3"
  },
  "language_info": {
   "codemirror_mode": {
    "name": "ipython",
    "version": 3
   },
   "file_extension": ".py",
   "mimetype": "text/x-python",
   "name": "python",
   "nbconvert_exporter": "python",
   "pygments_lexer": "ipython3",
   "version": "3.9.9"
  }
 },
 "nbformat": 4,
 "nbformat_minor": 5
}
